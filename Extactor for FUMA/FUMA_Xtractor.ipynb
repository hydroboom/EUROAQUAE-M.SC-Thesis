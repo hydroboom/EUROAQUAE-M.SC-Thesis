{
 "cells": [
  {
   "cell_type": "code",
   "execution_count": 36,
   "id": "ce5bf77f-48bd-41a3-8d0c-0a18136afc21",
   "metadata": {},
   "outputs": [
    {
     "name": "stdout",
     "output_type": "stream",
     "text": [
      "Data processing for all locations complete and files have been saved.\n"
     ]
    }
   ],
   "source": [
    "import netCDF4 as nc\n",
    "import pandas as pd\n",
    "import numpy as np\n",
    " \n",
    "# Variable to extract\n",
    "ssp = 'ssp585'  # ssp126 ssp245 ssp585\n",
    "scenario = ssp[3:]\n",
    "# Work with one at a time\n",
    "var = 'thetao' #change here for --> o2 chl thetao ph so\n",
    "variable_name = 'THETAO' #change here for --> Dissolved Oxygen Chlorophyll Thetao pH Salinity\n",
    "\n",
    "# Loc change for each variable\n",
    "variable_location = 'surface_depth_5.0'  # 'surface_depth_5.0' 'surface_depth_25.0' 'bottom'\n",
    "\n",
    "# File Path for NetCDF file -> This would be your filepath where the FUMA dataset is stored.\n",
    "filepath = f'H:/M.Sc Thesis - Data, Methodology, Results/NetCDF Files/FutureMares North Sea Package/{ssp}/ensemble/{var}/{var}_ensemble_sd+ba_{variable_location}_perc_{ssp}.nc'   #change here\n",
    "\n",
    "# List of locations only in North Sea with their coordinates\n",
    "locations = [\n",
    "    {'Location Name': 'FINO3', 'Nlat': 55.166668, 'Nlon': 7.1666718},\n",
    "    {'Location Name': 'BORSSELE', 'Nlat': 51.75, 'Nlon': 3.0},\n",
    "    {'Location Name': 'BELWIND', 'Nlat': 51.666668, 'Nlon': 2.8333282}\n",
    "]\n",
    "\n",
    "# Open the NetCDF file and read data\n",
    "with nc.Dataset(filepath, mode='r') as dataset:\n",
    "    latitudes = dataset.variables['lat'][:]\n",
    "    longitudes = dataset.variables['lon'][:]\n",
    "    times = dataset.variables['time'][:]\n",
    "    variable = dataset.variables[var]                    #change here\n",
    "    time_units = dataset.variables['time'].units\n",
    "    dates = nc.num2date(times, units=time_units)\n",
    "    \n",
    "    # Convert the dates to strings just once, as they are the same for all locations\n",
    "    formatted_dates = [date.strftime('%d %b %Y') for date in dates]\n",
    "    \n",
    "    # Extract and process data for each location\n",
    "    for location in locations:\n",
    "        closest_lat_index = np.argmin(np.abs(latitudes - location['Nlat']))\n",
    "        closest_lon_index = np.argmin(np.abs(longitudes - location['Nlon']))\n",
    "        # print(closest_lat_index, closest_lon_index)\n",
    "        # DataFrames to hold temperature data for each percentile\n",
    "        percentile_indices = {'P2.5': 0, 'P50': 1, 'P97.5': 2}  # Adjust indices as necessary\n",
    "        temp_data = {\n",
    "            'Date': formatted_dates\n",
    "        }\n",
    "        for label, idx in percentile_indices.items():\n",
    "            specific_values = variable[:, closest_lat_index, closest_lon_index, idx]          #change here\n",
    "            temp_data[f'{variable_name} ({label})'] = specific_values                  #change here\n",
    "\n",
    "        # Create a DataFrame for the location\n",
    "        location_df = pd.DataFrame(temp_data)\n",
    "\n",
    "        # # Save the DataFrame to a CSV file named after the location\n",
    "        # location_df.to_csv(f\"FUMA{location['Location Name']}_{var}_{scenario}.csv\", index=False)   #change here for your desired format. I am extracting all surface 25.0 values so I didn't specify {variable_location}\n",
    "        # #But this script will work for all FUMA nc files provided you have the locations and stuff noted.\n",
    "\n",
    "print(\"Data processing for all locations complete and files have been saved.\")"
   ]
  },
  {
   "cell_type": "code",
   "execution_count": null,
   "id": "d298679a-af41-405d-81ad-e8d33bedca41",
   "metadata": {},
   "outputs": [],
   "source": []
  }
 ],
 "metadata": {
  "kernelspec": {
   "display_name": "Python 3 (ipykernel)",
   "language": "python",
   "name": "python3"
  },
  "language_info": {
   "codemirror_mode": {
    "name": "ipython",
    "version": 3
   },
   "file_extension": ".py",
   "mimetype": "text/x-python",
   "name": "python",
   "nbconvert_exporter": "python",
   "pygments_lexer": "ipython3",
   "version": "3.11.7"
  }
 },
 "nbformat": 4,
 "nbformat_minor": 5
}

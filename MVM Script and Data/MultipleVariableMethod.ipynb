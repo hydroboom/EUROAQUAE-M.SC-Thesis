{
 "cells": [
  {
   "cell_type": "markdown",
   "id": "39a71d3a-657d-43b1-9714-dc81abdda65e",
   "metadata": {},
   "source": [
    "# Multiple Variable Method for obtaining Representative Years\n",
    "## Normalizing the files\n",
    "After you get the representative year outputs from the SVM script, you can use those to combine and normalize the data for the first phase of the MVM method. Depending on the number of your variables and the weight, as well as the mode you followed (CY, 12M) in the SVM method, you may have to modify the code. You have to ensure you have the folder(s) you want from SVM method in the folder of the MVM IPYNB. This code is written in a way to be able to access the folders and read/normalize those files and save it in a new folder 'Normalized'. \n"
   ]
  },
  {
   "cell_type": "code",
   "execution_count": 1,
   "id": "79b6d85f-dbe5-4ca9-a832-0a0c45619909",
   "metadata": {},
   "outputs": [
    {
     "name": "stdout",
     "output_type": "stream",
     "text": [
      "Normalized file saved: H:/M.Sc Thesis - Data, Methodology, Results/MVM Script and Data\\Normalized\\FMBORS_THETAO_585_CY_2030_2040_jsd.csv\n",
      "Normalized file saved: H:/M.Sc Thesis - Data, Methodology, Results/MVM Script and Data\\Normalized\\FMBORS_THETAO_585_CY_2030_2040_symn.csv\n",
      "Normalized file saved: H:/M.Sc Thesis - Data, Methodology, Results/MVM Script and Data\\Normalized\\FMBORS_THETAO_585_CY_2030_2040_symd.csv\n",
      "Normalized file saved: H:/M.Sc Thesis - Data, Methodology, Results/MVM Script and Data\\Normalized\\FMBORS_THETAO_585_CY_2030_2040_symp.csv\n",
      "Normalized file saved: H:/M.Sc Thesis - Data, Methodology, Results/MVM Script and Data\\Normalized\\FMBORS_SO_585_CY_2030_2040_jsd.csv\n",
      "Normalized file saved: H:/M.Sc Thesis - Data, Methodology, Results/MVM Script and Data\\Normalized\\FMBORS_SO_585_CY_2030_2040_symn.csv\n",
      "Normalized file saved: H:/M.Sc Thesis - Data, Methodology, Results/MVM Script and Data\\Normalized\\FMBORS_SO_585_CY_2030_2040_symd.csv\n",
      "Normalized file saved: H:/M.Sc Thesis - Data, Methodology, Results/MVM Script and Data\\Normalized\\FMBORS_SO_585_CY_2030_2040_symp.csv\n"
     ]
    }
   ],
   "source": [
    "import pandas as pd\n",
    "import os\n",
    "\n",
    "# List of start and end year, variable, scenario\n",
    "# Note: this code is written such that you can loop for multiple year_ranges tuples, loc list, var list, ssp lists.\n",
    "# This is an example run of the code.\n",
    "\n",
    "year_ranges = [(2030, 2040)]\n",
    "loc = ['FMBORS']\n",
    "var = ['THETAO', 'SO']\n",
    "ssp = [585]\n",
    "mode  = 'CY' #'12M' if you ran SVM for rolling years\n",
    "\n",
    "# Base directory for saving results\n",
    "base_dir = 'H:/M.Sc Thesis - Data, Methodology, Results/MVM Script and Data'\n",
    "file_endings = ['_jsd', '_symn', '_symd', '_symp', '_representative_years']\n",
    "\n",
    "## Functions\n",
    "\n",
    "def normalize_metric(df, metric_col):\n",
    "    min_val = df[metric_col].min()\n",
    "    max_val = df[metric_col].max()\n",
    "    df[metric_col] = 1 - (df[metric_col] - min_val) / (max_val - min_val)\n",
    "    return df\n",
    "\n",
    "normalized_base_dir = os.path.join(base_dir, 'Normalized')\n",
    "if not os.path.exists(normalized_base_dir):\n",
    "    os.makedirs(normalized_base_dir)\n",
    "\n",
    "# Normalizing the metrics from 0-1. 1 shows the representative year.\n",
    "\n",
    "for startyear, endyear in year_ranges:\n",
    "    for location in loc:\n",
    "        for variable in var:\n",
    "            for scenario in ssp:\n",
    "                folder_name = f'{location}_{variable}_{scenario}_{mode}_{startyear}_{endyear}'\n",
    "                folder_path = os.path.join(base_dir, folder_name)\n",
    "                # Process each file in the folder\n",
    "                for ending in file_endings:\n",
    "                    file_name = f'{folder_name}{ending}.csv'\n",
    "                    file_path = os.path.join(folder_path, file_name)\n",
    "                    \n",
    "                    # Skip the _representative_years file as it doesn't need normalization\n",
    "                    if ending == '_representative_years':\n",
    "                        continue\n",
    "                    \n",
    "                    # Read the CSV file\n",
    "                    df = pd.read_csv(file_path)\n",
    "\n",
    "                    # Determine the metric column name based on the file ending\n",
    "                    metric_col = 'JSD' if ending == '_jsd' else 'RMSE'\n",
    "                    \n",
    "                    # Normalize the metric column\n",
    "                    df = normalize_metric(df, metric_col)\n",
    "\n",
    "                    # Save the normalized dataframe to the new folder\n",
    "                    normalized_file_path = os.path.join(normalized_base_dir, file_name)\n",
    "                    df.to_csv(normalized_file_path, index=False)\n",
    "                    print(f'Normalized file saved: {normalized_file_path}')\n"
   ]
  },
  {
   "cell_type": "markdown",
   "id": "b027ff6a-fd57-4051-91b9-87d164337c27",
   "metadata": {},
   "source": [
    "## Composite Representative Year\n",
    "The following snippets will read the normalized files based on your choice, so you have to modify the script of location/file name/variable column headers. The end script will give you a representative year which is balanced for the variables you are inputting."
   ]
  },
  {
   "cell_type": "code",
   "execution_count": 21,
   "id": "01e06b5c-61d4-4889-8288-177656829ba5",
   "metadata": {},
   "outputs": [
    {
     "name": "stdout",
     "output_type": "stream",
     "text": [
      "           Year        SO    THETAO\n",
      "0   sub_ts_2030  0.501838  0.643940\n",
      "1   sub_ts_2031  0.477124  0.769654\n",
      "2   sub_ts_2032  0.478511  0.564155\n",
      "3   sub_ts_2033  0.743861  0.453186\n",
      "4   sub_ts_2034  0.000000  0.293148\n",
      "5   sub_ts_2035  0.522892  0.691305\n",
      "6   sub_ts_2036  0.687675  1.000000\n",
      "7   sub_ts_2037  0.503399  0.811489\n",
      "8   sub_ts_2038  0.445564  0.000000\n",
      "9   sub_ts_2039  0.902209  0.872088\n",
      "10  sub_ts_2040  1.000000  0.247181\n"
     ]
    }
   ],
   "source": [
    "## Read the csv file and put into dataframe\n",
    "\n",
    "directory = 'H:/M.Sc Thesis - Data, Methodology, Results/MVM Script and Data/Normalized'\n",
    "\n",
    "# Define the file names\n",
    "file_so_jsd = 'FMBORS_SO_585_CY_2030_2040_jsd.csv'\n",
    "file_thetao_jsd = 'FMBORS_THETAO_585_CY_2030_2040_jsd.csv'\n",
    "\n",
    "# Read the CSV files\n",
    "df_so_jsd = pd.read_csv(os.path.join(directory, file_so_jsd))\n",
    "df_thetao_jsd = pd.read_csv(os.path.join(directory, file_thetao_jsd))\n",
    "\n",
    "# Create the new DataFrame\n",
    "new_df = pd.DataFrame()\n",
    "new_df['Year'] = df_so_jsd.iloc[:, 0]\n",
    "new_df['SO'] = df_so_jsd.iloc[:, 1]\n",
    "new_df['THETAO'] = df_thetao_jsd.iloc[:, 1]\n",
    "\n",
    "# Display the new DataFrame\n",
    "print(new_df)"
   ]
  },
  {
   "cell_type": "code",
   "execution_count": 20,
   "id": "cd66fe25-cc22-48bb-b10e-4e46c4a23b2a",
   "metadata": {},
   "outputs": [
    {
     "name": "stdout",
     "output_type": "stream",
     "text": [
      "           Year        SO    THETAO  weighted_sum  abs_diff\n",
      "0   sub_ts_2030  0.501838  0.643940      0.572889  0.427111\n",
      "1   sub_ts_2031  0.477124  0.769654      0.623389  0.376611\n",
      "2   sub_ts_2032  0.478511  0.564155      0.521333  0.478667\n",
      "3   sub_ts_2033  0.743861  0.453186      0.598524  0.401476\n",
      "4   sub_ts_2034  0.000000  0.293148      0.146574  0.853426\n",
      "5   sub_ts_2035  0.522892  0.691305      0.607099  0.392901\n",
      "6   sub_ts_2036  0.687675  1.000000      0.843837  0.156163\n",
      "7   sub_ts_2037  0.503399  0.811489      0.657444  0.342556\n",
      "8   sub_ts_2038  0.445564  0.000000      0.222782  0.777218\n",
      "9   sub_ts_2039  0.902209  0.872088      0.887149  0.112851\n",
      "10  sub_ts_2040  1.000000  0.247181      0.623591  0.376409\n",
      "The representative year for your input combination of variables is sub_ts_2039 with a residual of 0.11285147723030597.\n"
     ]
    }
   ],
   "source": [
    "# Set weights for variables\n",
    "# Either use the following for equal weightage of variables\n",
    "# Or you can ignore the no_of_var and equal_wt, and put values for wt_variable\n",
    "# The total weight must be equal to 1 e.g if there are 4 variables and equal weight, the weight summation would be 0.25+0.25+0.25+0.25 =1\n",
    "no_of_var = 2\n",
    "equal_wt = 1/no_of_var\n",
    "wt_so=equal_wt\n",
    "wt_thetao=equal_wt\n",
    "# Calculate the weighted sum\n",
    "new_df['weighted_sum'] = new_df['SO'] * wt_so + new_df['THETAO'] * wt_thetao   #Change here if you have more variables\n",
    "new_df['abs_diff'] = abs(1-new_df['weighted_sum'])   \n",
    "print(new_df)\n",
    "\n",
    "# Find the 'Year' for the minimum abs_diff\n",
    "\n",
    "min_abs_diff_year = new_df.loc[new_df['abs_diff'].idxmin(), 'Year']\n",
    "residual = new_df.loc[new_df['abs_diff'].idxmin(), 'abs_diff']\n",
    "print(f'The representative year for your input combination of variables is {min_abs_diff_year} with a residual of {residual}.')"
   ]
  }
 ],
 "metadata": {
  "kernelspec": {
   "display_name": "Python 3 (ipykernel)",
   "language": "python",
   "name": "python3"
  },
  "language_info": {
   "codemirror_mode": {
    "name": "ipython",
    "version": 3
   },
   "file_extension": ".py",
   "mimetype": "text/x-python",
   "name": "python",
   "nbconvert_exporter": "python",
   "pygments_lexer": "ipython3",
   "version": "3.11.7"
  }
 },
 "nbformat": 4,
 "nbformat_minor": 5
}
